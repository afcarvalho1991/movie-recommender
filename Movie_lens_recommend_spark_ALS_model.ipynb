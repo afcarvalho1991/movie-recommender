{
 "cells": [
  {
   "cell_type": "code",
   "execution_count": null,
   "metadata": {
    "collapsed": true
   },
   "outputs": [],
   "source": [
    "# This is where the Movie Lens data is - updated every month, the last update was in October 2016 from where the\n",
    "# the data was pulled\n",
    "complete_dataset_url = 'http://files.grouplens.org/datasets/movielens/ml-latest.zip'\n",
    "small_dataset_url = 'http://files.grouplens.org/datasets/movielens/ml-latest-small.zip'"
   ]
  },
  {
   "cell_type": "code",
   "execution_count": 1,
   "metadata": {
    "collapsed": false
   },
   "outputs": [],
   "source": [
    "# specifies where to place the downloaded data\n",
    "import os\n",
    "\n",
    "datasets_path = os.path.join('/home/kswamy/Documents/data_analysis', 'datasets')\n",
    "\n",
    "complete_dataset_path = os.path.join(datasets_path, 'ml-latest.zip')\n",
    "small_dataset_path = os.path.join(datasets_path, 'ml-latest-small.zip')"
   ]
  },
  {
   "cell_type": "code",
   "execution_count": null,
   "metadata": {
    "collapsed": true
   },
   "outputs": [],
   "source": [
    "# This retrieves the zipped data from the url location and places it in the data set path specified above\n",
    "import urllib\n",
    "\n",
    "small_f = urllib.urlretrieve (small_dataset_url, small_dataset_path)\n",
    "complete_f = urllib.urlretrieve (complete_dataset_url, complete_dataset_path)"
   ]
  },
  {
   "cell_type": "code",
   "execution_count": null,
   "metadata": {
    "collapsed": true
   },
   "outputs": [],
   "source": [
    "# unzips the zip file\n",
    "import zipfile\n",
    "\n",
    "with zipfile.ZipFile(small_dataset_path, \"r\") as z:\n",
    "    z.extractall(datasets_path)\n",
    "\n",
    "with zipfile.ZipFile(complete_dataset_path, \"r\") as z:\n",
    "    z.extractall(datasets_path)"
   ]
  },
  {
   "cell_type": "code",
   "execution_count": 2,
   "metadata": {
    "collapsed": true
   },
   "outputs": [],
   "source": [
    "# assigns the ratings raw data variable of the small movie ratings\n",
    "small_ratings_file = os.path.join(datasets_path, 'ml-latest-small', 'ratings.csv')\n",
    "\n",
    "small_ratings_raw_data = sc.textFile(small_ratings_file)\n",
    "small_ratings_raw_data_header = small_ratings_raw_data.take(1)[0]\n"
   ]
  },
  {
   "cell_type": "code",
   "execution_count": 3,
   "metadata": {
    "collapsed": true
   },
   "outputs": [],
   "source": [
    "# filters to remove the header from the data, splits the data into columns and assigns the three columns\n",
    "# The four columns contained in the ratings data are userId,movieId,rating,timestamp\n",
    "# We ignore timestamp in the modeling here\n",
    "small_ratings_data = small_ratings_raw_data.filter(lambda line: line!=small_ratings_raw_data_header)\\\n",
    "    .map(lambda line: line.split(\",\")).map(lambda tokens: (tokens[0],tokens[1],tokens[2])).cache()"
   ]
  },
  {
   "cell_type": "code",
   "execution_count": 4,
   "metadata": {
    "collapsed": false
   },
   "outputs": [
    {
     "data": {
      "text/plain": [
       "[(u'1', u'31', u'2.5'), (u'1', u'1029', u'3.0'), (u'1', u'1061', u'3.0')]"
      ]
     },
     "execution_count": 4,
     "metadata": {},
     "output_type": "execute_result"
    }
   ],
   "source": [
    "# The columns are userId,movieId,rating\n",
    "small_ratings_data.take(3)"
   ]
  },
  {
   "cell_type": "code",
   "execution_count": 5,
   "metadata": {
    "collapsed": false
   },
   "outputs": [
    {
     "data": {
      "text/plain": [
       "[(u'1', u'Toy Story (1995)'),\n",
       " (u'2', u'Jumanji (1995)'),\n",
       " (u'3', u'Grumpier Old Men (1995)')]"
      ]
     },
     "execution_count": 5,
     "metadata": {},
     "output_type": "execute_result"
    }
   ],
   "source": [
    "# Assigns the movies title file of the small movie data set\n",
    "small_movies_file = os.path.join(datasets_path, 'ml-latest-small', 'movies.csv')\n",
    "\n",
    "small_movies_raw_data = sc.textFile(small_movies_file)\n",
    "small_movies_raw_data_header = small_movies_raw_data.take(1)[0]\n",
    "\n",
    "small_movies_data = small_movies_raw_data.filter(lambda line: line!=small_movies_raw_data_header)\\\n",
    "    .map(lambda line: line.split(\",\")).map(lambda tokens: (tokens[0],tokens[1])).cache()\n",
    "\n",
    "small_movies_data.take(3)"
   ]
  },
  {
   "cell_type": "code",
   "execution_count": 6,
   "metadata": {
    "collapsed": false
   },
   "outputs": [
    {
     "data": {
      "text/plain": [
       "[(1, u'Toy Story (1995)'),\n",
       " (2, u'Jumanji (1995)'),\n",
       " (3, u'Grumpier Old Men (1995)')]"
      ]
     },
     "execution_count": 6,
     "metadata": {},
     "output_type": "execute_result"
    }
   ],
   "source": [
    "small_movies_titles = small_movies_data.map(lambda x: (int(x[0]),x[1]))\n",
    "small_movies_titles.take(3)"
   ]
  },
  {
   "cell_type": "code",
   "execution_count": 113,
   "metadata": {
    "collapsed": true
   },
   "outputs": [],
   "source": [
    "# create training, validation and test data sets\n",
    "small_training_RDD, small_validation_RDD, small_test_RDD = small_ratings_data.randomSplit([6, 2, 2], seed=0L)\n",
    "small_validation_for_predict_RDD = small_validation_RDD.map(lambda x: (x[0], x[1]))\n",
    "small_test_for_predict_RDD = small_test_RDD.map(lambda x: (x[0], x[1]))"
   ]
  },
  {
   "cell_type": "code",
   "execution_count": 114,
   "metadata": {
    "collapsed": false
   },
   "outputs": [
    {
     "name": "stdout",
     "output_type": "stream",
     "text": [
      "For rank 4 the RMSE is 0.952401795348\n",
      "For rank 8 the RMSE is 0.959968407203\n",
      "For rank 12 the RMSE is 0.953274504895\n",
      "For rank 25 the RMSE is 0.952975573491\n",
      "For rank 30 the RMSE is 0.94888354937\n",
      "For rank 40 the RMSE is 0.944372594307\n",
      "For rank 50 the RMSE is 0.945498085497\n",
      "The best model was trained with rank 40\n"
     ]
    }
   ],
   "source": [
    "# Train the model using the training dataset and predict the error using the validation dataset\n",
    "# Rank 40 gave the lowest error and this rank will be used to train the large dataset\n",
    "from pyspark.mllib.recommendation import ALS\n",
    "import math\n",
    "\n",
    "seed = 5L\n",
    "iterations = 10\n",
    "regularization_parameter = 0.1\n",
    "ranks = [4, 8, 12,25,30,40,50]\n",
    "errors = [0, 0, 0,0,0,0,0]\n",
    "err = 0\n",
    "tolerance = 0.02\n",
    "\n",
    "min_error = float('inf')\n",
    "best_rank = -1\n",
    "best_iteration = -1\n",
    "for rank in ranks:\n",
    "    model = ALS.train(small_training_RDD, rank, seed=seed, iterations=iterations,\n",
    "                      lambda_=regularization_parameter)\n",
    "    predictions = model.predictAll(small_validation_for_predict_RDD).map(lambda r: ((r[0], r[1]), r[2]))\n",
    "    rates_and_preds = small_validation_RDD.map(lambda r: ((int(r[0]), int(r[1])), float(r[2]))).join(predictions)\n",
    "    error = math.sqrt(rates_and_preds.map(lambda r: (r[1][0] - r[1][1])**2).mean())\n",
    "    errors[err] = error\n",
    "    err += 1\n",
    "    print 'For rank %s the RMSE is %s' % (rank, error)\n",
    "    if error < min_error:\n",
    "        min_error = error\n",
    "        best_rank = rank\n",
    "print 'The best model was trained with rank %s' % best_rank"
   ]
  },
  {
   "cell_type": "code",
   "execution_count": 10,
   "metadata": {
    "collapsed": false
   },
   "outputs": [
    {
     "data": {
      "text/plain": [
       "671"
      ]
     },
     "execution_count": 10,
     "metadata": {},
     "output_type": "execute_result"
    }
   ],
   "source": [
    "# The ALS trained model has userFeatures and productFeatures matrix\n",
    "(model.userFeatures().count())"
   ]
  },
  {
   "cell_type": "code",
   "execution_count": 11,
   "metadata": {
    "collapsed": false
   },
   "outputs": [
    {
     "data": {
      "text/plain": [
       "7556"
      ]
     },
     "execution_count": 11,
     "metadata": {},
     "output_type": "execute_result"
    }
   ],
   "source": [
    "# The productFeatures matrix will be used to create an item-item collaborative filtering recommendation model\n",
    "model.productFeatures().count()"
   ]
  },
  {
   "cell_type": "code",
   "execution_count": 12,
   "metadata": {
    "collapsed": false
   },
   "outputs": [
    {
     "data": {
      "text/plain": [
       "array('d', [-0.27228254079818726, 0.43617916107177734, 0.27535906434059143, 0.25024840235710144, 0.7473196387290955, -0.2839663624763489, -0.1463722586631775, 0.2846594750881195, 1.190673589706421, 1.3351117372512817, -0.3633521497249603, -1.066757082939148])"
      ]
     },
     "execution_count": 12,
     "metadata": {},
     "output_type": "execute_result"
    }
   ],
   "source": [
    "model.productFeatures().lookup(1084)[0]"
   ]
  },
  {
   "cell_type": "code",
   "execution_count": 13,
   "metadata": {
    "collapsed": false
   },
   "outputs": [],
   "source": [
    "import numpy as np\n",
    "from numpy import linalg as LA"
   ]
  },
  {
   "cell_type": "code",
   "execution_count": 14,
   "metadata": {
    "collapsed": true
   },
   "outputs": [],
   "source": [
    "def cosineSimilarity(vec1, vec2):\n",
    "  return vec1.dot(vec2) / (LA.norm(vec1) * LA.norm(vec2))"
   ]
  },
  {
   "cell_type": "code",
   "execution_count": 32,
   "metadata": {
    "collapsed": false
   },
   "outputs": [],
   "source": [
    "# Choose a movie ID to predict the similar movies to it\n",
    "itemId = 1084\n",
    "\n",
    "itemFactor = np.asarray(model.productFeatures().lookup(itemId))[0]"
   ]
  },
  {
   "cell_type": "code",
   "execution_count": 16,
   "metadata": {
    "collapsed": false
   },
   "outputs": [
    {
     "data": {
      "text/plain": [
       "array([-0.27228254,  0.43617916,  0.27535906,  0.2502484 ,  0.74731964,\n",
       "       -0.28396636, -0.14637226,  0.28465948,  1.19067359,  1.33511174,\n",
       "       -0.36335215, -1.06675708])"
      ]
     },
     "execution_count": 16,
     "metadata": {},
     "output_type": "execute_result"
    }
   ],
   "source": [
    "itemFactor"
   ]
  },
  {
   "cell_type": "code",
   "execution_count": 17,
   "metadata": {
    "collapsed": false
   },
   "outputs": [
    {
     "data": {
      "text/plain": [
       "1.0"
      ]
     },
     "execution_count": 17,
     "metadata": {},
     "output_type": "execute_result"
    }
   ],
   "source": [
    "cosineSimilarity(itemFactor,itemFactor)"
   ]
  },
  {
   "cell_type": "code",
   "execution_count": 33,
   "metadata": {
    "collapsed": false
   },
   "outputs": [],
   "source": [
    "# similarity matrix built for a particular movie item using the product features matrix\n",
    "sims = model.productFeatures().map(lambda products:(products[0],\n",
    "                                        cosineSimilarity(np.asarray(products[1]), itemFactor)))\\\n",
    "                                .join(small_movies_titles).map(lambda r: (r[1][1], r[1][0], r[0]))"
   ]
  },
  {
   "cell_type": "code",
   "execution_count": 34,
   "metadata": {
    "collapsed": false
   },
   "outputs": [
    {
     "data": {
      "text/plain": [
       "[(u'Beyond the Valley of the Dolls (1970)', 0.82334611930333124, 8196),\n",
       " (u'Heat (1995)', 0.76750135402878283, 6),\n",
       " (u'Dracula: Dead and Loving It (1995)', 0.39088161722647613, 12)]"
      ]
     },
     "execution_count": 34,
     "metadata": {},
     "output_type": "execute_result"
    }
   ],
   "source": [
    "sims.take(3)"
   ]
  },
  {
   "cell_type": "code",
   "execution_count": 35,
   "metadata": {
    "collapsed": false
   },
   "outputs": [],
   "source": [
    "sortedSims = sims.takeOrdered(20, key=lambda x: -x[1])"
   ]
  },
  {
   "cell_type": "code",
   "execution_count": 36,
   "metadata": {
    "collapsed": false
   },
   "outputs": [
    {
     "data": {
      "text/plain": [
       "[(u'Bonnie and Clyde (1967)', 1.0, 1084),\n",
       " (u'\"Andromeda Strain', 0.9727425984780248, 6303),\n",
       " (u'Monsieur Verdoux (1947)', 0.96915349847514232, 3632),\n",
       " (u'\"Public Enemy', 0.96535496116070552, 7056),\n",
       " (u'\"Immigrant', 0.96382595368313073, 8511),\n",
       " (u'Death to Smoochy (2002)', 0.96246929945464077, 5265),\n",
       " (u'\"Day of the Jackal', 0.96147569443342451, 8207),\n",
       " (u'\"Lavender Hill Mob', 0.96057896116625829, 5603),\n",
       " (u'Broadway Danny Rose (1984)', 0.9574629902906906, 7983),\n",
       " (u'And Then There Were None (1945)', 0.95667523623821327, 4969),\n",
       " (u'Kind Hearts and Coronets (1949)', 0.95641880421324321, 6650),\n",
       " (u'\"Awful Truth', 0.9564187996238841, 6254),\n",
       " (u'\"Sorry', 0.9564187996238841, 5434),\n",
       " (u'\"Crazies', 0.95596062207871346, 6395),\n",
       " (u'71 Fragments of a Chronology of Chance (71 Fragmente einer Chronologie des Zufalls) (1994)',\n",
       "  0.95526845145991002,\n",
       "  26850),\n",
       " (u'Where the Sidewalk Ends (1950)', 0.95526845145991002, 59832),\n",
       " (u\"Mon oncle d'Am\\xe9rique (1980)\", 0.95526845145991002, 5202),\n",
       " (u'\"Road', 0.95526845145991002, 63072),\n",
       " (u'Animals are Beautiful People (1974)', 0.95526845145991002, 6408),\n",
       " (u'Streamers (1983)', 0.95526845145991002, 48198)]"
      ]
     },
     "execution_count": 36,
     "metadata": {},
     "output_type": "execute_result"
    }
   ],
   "source": [
    "# Sorted Similarity matrix to predict the movies most similar to the chosen movie\n",
    "sortedSims"
   ]
  },
  {
   "cell_type": "code",
   "execution_count": 14,
   "metadata": {
    "collapsed": false
   },
   "outputs": [
    {
     "data": {
      "text/plain": [
       "[((452, 1084), 3.0789427124972235),\n",
       " ((472, 1084), 3.469723768504703),\n",
       " ((529, 1084), 3.6833522903175013)]"
      ]
     },
     "execution_count": 14,
     "metadata": {},
     "output_type": "execute_result"
    }
   ],
   "source": [
    "predictions.take(3)"
   ]
  },
  {
   "cell_type": "code",
   "execution_count": 15,
   "metadata": {
    "collapsed": false
   },
   "outputs": [
    {
     "data": {
      "text/plain": [
       "[((368, 2664), (4.0, 3.9869699179369316)),\n",
       " ((153, 3825), (3.0, 2.406334801407196)),\n",
       " ((148, 1208), (5.0, 4.332034819234105))]"
      ]
     },
     "execution_count": 15,
     "metadata": {},
     "output_type": "execute_result"
    }
   ],
   "source": [
    "rates_and_preds.take(3)"
   ]
  },
  {
   "cell_type": "code",
   "execution_count": 37,
   "metadata": {
    "collapsed": false
   },
   "outputs": [
    {
     "name": "stdout",
     "output_type": "stream",
     "text": [
      "There are 24404096 recommendations in the complete dataset\n"
     ]
    }
   ],
   "source": [
    "# Load the complete ratings dataset file\n",
    "complete_ratings_file = os.path.join(datasets_path, 'ml-latest', 'ratings.csv')\n",
    "complete_ratings_raw_data = sc.textFile(complete_ratings_file)\n",
    "complete_ratings_raw_data_header = complete_ratings_raw_data.take(1)[0]\n",
    "\n",
    "# Parse\n",
    "complete_ratings_data = complete_ratings_raw_data.filter(lambda line: line!=complete_ratings_raw_data_header)\\\n",
    "    .map(lambda line: line.split(\",\")).map(lambda tokens: (int(tokens[0]),int(tokens[1]),float(tokens[2]))).cache()\n",
    "\n",
    "print \"There are %s recommendations in the complete dataset\" % (complete_ratings_data.count())"
   ]
  },
  {
   "cell_type": "code",
   "execution_count": 115,
   "metadata": {
    "collapsed": true
   },
   "outputs": [],
   "source": [
    "# Training and Test data from the complete movie dataset\n",
    "training_RDD, test_RDD = complete_ratings_data.randomSplit([7, 3], seed=0L)\n",
    "\n",
    "complete_model = ALS.train(training_RDD, best_rank, seed=seed, \n",
    "                           iterations=iterations, lambda_=regularization_parameter)"
   ]
  },
  {
   "cell_type": "code",
   "execution_count": 116,
   "metadata": {
    "collapsed": false
   },
   "outputs": [
    {
     "name": "stdout",
     "output_type": "stream",
     "text": [
      "For testing data the RMSE is 0.818180394334\n"
     ]
    }
   ],
   "source": [
    "test_for_predict_RDD = test_RDD.map(lambda x: (x[0], x[1]))\n",
    "\n",
    "predictions = complete_model.predictAll(test_for_predict_RDD).map(lambda r: ((r[0], r[1]), r[2]))\n",
    "rates_and_preds = test_RDD.map(lambda r: ((int(r[0]), int(r[1])), float(r[2]))).join(predictions)\n",
    "error = math.sqrt(rates_and_preds.map(lambda r: (r[1][0] - r[1][1])**2).mean())\n",
    "\n",
    "print 'For testing data the RMSE is %s' % (error)"
   ]
  },
  {
   "cell_type": "code",
   "execution_count": 40,
   "metadata": {
    "collapsed": false
   },
   "outputs": [
    {
     "name": "stdout",
     "output_type": "stream",
     "text": [
      "There are 40110 movies in the complete dataset\n"
     ]
    }
   ],
   "source": [
    "# Load the complete movie titles file\n",
    "complete_movies_file = os.path.join(datasets_path, 'ml-latest', 'movies.csv')\n",
    "complete_movies_raw_data = sc.textFile(complete_movies_file)\n",
    "complete_movies_raw_data_header = complete_movies_raw_data.take(1)[0]\n",
    "\n",
    "# Parse\n",
    "complete_movies_data = complete_movies_raw_data.filter(lambda line: line!=complete_movies_raw_data_header)\\\n",
    "    .map(lambda line: line.split(\",\")).map(lambda tokens: (int(tokens[0]),tokens[1],tokens[2])).cache()\n",
    "\n",
    "complete_movies_titles = complete_movies_data.map(lambda x: (int(x[0]),x[1]))\n",
    "\n",
    "print \"There are %s movies in the complete dataset\" % (complete_movies_titles.count())"
   ]
  },
  {
   "cell_type": "code",
   "execution_count": 41,
   "metadata": {
    "collapsed": true
   },
   "outputs": [],
   "source": [
    "def get_counts_and_averages(ID_and_ratings_tuple):\n",
    "    nratings = len(ID_and_ratings_tuple[1])\n",
    "    return ID_and_ratings_tuple[0], (nratings, float(sum(x for x in ID_and_ratings_tuple[1]))/nratings)\n",
    "\n",
    "movie_ID_with_ratings_RDD = (complete_ratings_data.map(lambda x: (x[1], x[2])).groupByKey())\n",
    "movie_ID_with_avg_ratings_RDD = movie_ID_with_ratings_RDD.map(get_counts_and_averages)\n",
    "movie_rating_counts_RDD = movie_ID_with_avg_ratings_RDD.map(lambda x: (x[0], x[1][0]))\n"
   ]
  },
  {
   "cell_type": "code",
   "execution_count": 110,
   "metadata": {
    "collapsed": false
   },
   "outputs": [
    {
     "data": {
      "text/plain": [
       "36909"
      ]
     },
     "execution_count": 110,
     "metadata": {},
     "output_type": "execute_result"
    }
   ],
   "source": [
    "complete_model.productFeatures().count()"
   ]
  },
  {
   "cell_type": "code",
   "execution_count": 111,
   "metadata": {
    "collapsed": false
   },
   "outputs": [
    {
     "data": {
      "text/plain": [
       "39443"
      ]
     },
     "execution_count": 111,
     "metadata": {},
     "output_type": "execute_result"
    }
   ],
   "source": [
    "movie_ID_with_avg_ratings_RDD.count()"
   ]
  },
  {
   "cell_type": "code",
   "execution_count": 105,
   "metadata": {
    "collapsed": false
   },
   "outputs": [],
   "source": [
    "# Chosen MovieID for calculating similar movies\n",
    "itemId = 25800\n",
    "\n",
    "complete_itemFactor = np.asarray(complete_model.productFeatures().lookup(itemId))[0]"
   ]
  },
  {
   "cell_type": "code",
   "execution_count": 106,
   "metadata": {
    "collapsed": false
   },
   "outputs": [],
   "source": [
    "# calculating the similarity coefficients of all the movies against the chosen movie ID\n",
    "complete_sims = complete_model.productFeatures().map(lambda products:(products[0],\n",
    "                                        cosineSimilarity(np.asarray(products[1]), complete_itemFactor)))\\\n",
    "                                .join(complete_movies_titles).join(movie_rating_counts_RDD)\\\n",
    "                                .join(movie_ID_with_avg_ratings_RDD)\n",
    "complete_sims = complete_sims.map(lambda r: (r[1][0][0][1], r[1][0][0][0], r[0], r[1][0][1], r[1][1][1]))"
   ]
  },
  {
   "cell_type": "code",
   "execution_count": 49,
   "metadata": {
    "collapsed": false
   },
   "outputs": [
    {
     "data": {
      "text/plain": [
       "[(u'Bonnie and Clyde (1967)', 1.0, 1084, 10729, 3.8564171870631),\n",
       " (u'Animal Crackers (1930)',\n",
       "  0.99993380386717889,\n",
       "  7706,\n",
       "  998,\n",
       "  3.9398797595190382),\n",
       " (u'You Only Live Once (1937)',\n",
       "  0.99989432912252063,\n",
       "  6515,\n",
       "  69,\n",
       "  3.463768115942029),\n",
       " (u'\"Graduate', 0.99975585418568769, 1247, 19276, 4.050140070554057),\n",
       " (u'\"Ladykillers', 0.99971463184957576, 5602, 1119, 3.772117962466488),\n",
       " (u'Creature Comforts (1989)',\n",
       "  0.99954742167054844,\n",
       "  3429,\n",
       "  2697,\n",
       "  4.103262884686689),\n",
       " (u'\"Hard Day\\'s Night', 0.99952498733217099, 2863, 4627, 3.8240760752107197),\n",
       " (u'Vertigo (1958)', 0.99952031000213459, 903, 16545, 4.1249622242369295),\n",
       " (u'On the Ropes (1999)', 0.9994926801856886, 2824, 148, 3.543918918918919),\n",
       " (u'\"Harder They Fall', 0.99947801225433885, 6064, 170, 3.5764705882352943),\n",
       " (u'\"Apartment', 0.99935385557621415, 909, 5911, 4.0219083065471155),\n",
       " (u'Angels with Dirty Faces (1938)',\n",
       "  0.99927936779293147,\n",
       "  8600,\n",
       "  477,\n",
       "  3.7536687631027252),\n",
       " (u'This Gun for Hire (1942)',\n",
       "  0.99926158379835817,\n",
       "  8765,\n",
       "  243,\n",
       "  3.763374485596708),\n",
       " (u'Guerrilla: The Taking of Patty Hearst (2004)',\n",
       "  0.9991784430366174,\n",
       "  8979,\n",
       "  66,\n",
       "  3.4393939393939394),\n",
       " (u'Empire Falls (2005)', 0.99917676474910433, 48268, 29, 3.4482758620689653),\n",
       " (u'Alfie (1966)', 0.99917361565121843, 4191, 763, 3.603538663171691),\n",
       " (u'\"Maltese Falcon', 0.99916440410699647, 8228, 3015, 4.019734660033167),\n",
       " (u'\"Postman Always Rings Twice',\n",
       "  0.99913273913758394,\n",
       "  7728,\n",
       "  657,\n",
       "  3.732115677321157),\n",
       " (u'Being There (1979)', 0.99912172852410541, 1292, 7106, 3.962918660287081),\n",
       " (u'Mei and the Kittenbus (2002)', 0.9990841577809938, 118468, 25, 3.88)]"
      ]
     },
     "execution_count": 49,
     "metadata": {},
     "output_type": "execute_result"
    }
   ],
   "source": [
    "# Filter the data by movieIDs that have the count of user ratings higher than five\n",
    "# Sort the similarity data by decreasing order of the similarity coefficient, and then take the top 20 from the ordered\n",
    "# list\n",
    "complete_sortedSims = complete_sims.filter(lambda r: r[3]>=5).takeOrdered(20, key=lambda x: -x[1])\n",
    "complete_sortedSims"
   ]
  },
  {
   "cell_type": "code",
   "execution_count": 117,
   "metadata": {
    "collapsed": false
   },
   "outputs": [],
   "source": [
    "# A test variable is created for pickling the productFeatures matrix data, combined with movie titles\n",
    "# and average ratings.  \n",
    "test2 = complete_model.productFeatures().join(complete_movies_titles)\\\n",
    "                                .join(movie_ID_with_avg_ratings_RDD)"
   ]
  },
  {
   "cell_type": "code",
   "execution_count": 118,
   "metadata": {
    "collapsed": false
   },
   "outputs": [],
   "source": [
    "# pickle the productFeatures matrix\n",
    "test2.saveAsPickleFile('/home/kswamy/Documents/data_analysis/spark_models/movie_lens_als_complete/product_40feature_rating')"
   ]
  },
  {
   "cell_type": "code",
   "execution_count": null,
   "metadata": {
    "collapsed": false
   },
   "outputs": [],
   "source": [
    "# Load the pickled model\n",
    "from pyspark.mllib.recommendation import MatrixFactorizationModel\n",
    "\n",
    "model_path = os.path.join('/home/kswamy/Documents/data_analysis', 'spark_models', 'movie_lens_als_complete')\n",
    "\n",
    "# Save and load model\n",
    "complete_model.save(sc, model_path)\n",
    "#same_model = MatrixFactorizationModel.load(sc, model_path)\n"
   ]
  },
  {
   "cell_type": "code",
   "execution_count": null,
   "metadata": {
    "collapsed": true
   },
   "outputs": [],
   "source": []
  }
 ],
 "metadata": {
  "kernelspec": {
   "display_name": "Python 2",
   "language": "python",
   "name": "python2"
  },
  "language_info": {
   "codemirror_mode": {
    "name": "ipython",
    "version": 2
   },
   "file_extension": ".py",
   "mimetype": "text/x-python",
   "name": "python",
   "nbconvert_exporter": "python",
   "pygments_lexer": "ipython2",
   "version": "2.7.5"
  }
 },
 "nbformat": 4,
 "nbformat_minor": 0
}
